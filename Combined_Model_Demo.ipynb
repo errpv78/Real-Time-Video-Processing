{
 "cells": [
  {
   "cell_type": "code",
   "execution_count": 29,
   "metadata": {},
   "outputs": [],
   "source": [
    "# import the necessary packages\n",
    "from imutils.video import VideoStream\n",
    "from tensorflow.keras.preprocessing.image import img_to_array\n",
    "from tensorflow.keras.models import load_model\n",
    "import numpy as np\n",
    "import argparse\n",
    "import imutils\n",
    "import pickle\n",
    "import time\n",
    "import cv2\n",
    "import os\n",
    "from imutils.video import FPS\n",
    "from imutils import paths\n",
    "import shutil\n",
    "import face_recognition"
   ]
  },
  {
   "cell_type": "code",
   "execution_count": 2,
   "metadata": {},
   "outputs": [],
   "source": [
    "import tensorflow as tf\n",
    "# Checking if GPU available\n",
    "physical_devices = tf.config.experimental.list_physical_devices(\"GPU\")\n",
    "tf.config.experimental.set_memory_growth(physical_devices[0], True)"
   ]
  },
  {
   "cell_type": "code",
   "execution_count": 20,
   "metadata": {},
   "outputs": [
    {
     "name": "stdout",
     "output_type": "stream",
     "text": [
      "[INFO] loading model...\n"
     ]
    }
   ],
   "source": [
    "# Object Detection Prerequisites\n",
    "prototxt = 'Object_Detection/caffe_models/MobileNetSSD_deploy.prototxt.txt'\n",
    "model = 'Object_Detection/caffe_models/MobileNetSSD_deploy.caffemodel'\n",
    "confidence = 0.2\n",
    "\n",
    "# initialize the list of class labels MobileNet SSD was trained to detect\n",
    "# and generate a set of bounding box colors for each class\n",
    "CLASSES = [\"background\", \"aeroplane\", \"bicycle\", \"bird\", \"boat\", \"bottle\", \"bus\",\n",
    "           \"car\", \"cat\", \"chair\", \"cow\", \"diningtable\",\n",
    "           \"dog\", \"horse\", \"motorbike\", \"person\", \"pottedplant\", \"sheep\", \"sofa\", \"train\", \"tvmonitor\"]\n",
    "\n",
    "COLORS = np.random.uniform(0, 255, size=(len(CLASSES), 3))\n",
    "\n",
    "# load our serialized model from disk\n",
    "print(\"[INFO] loading model...\")\n",
    "\n",
    "# Reads a network model stored in Caffe framework's format.\n",
    "# prototxt: path to .prototxt file with text description of network architecture.\n",
    "# caffeModel: path to .caffemodel file with learned network.\n",
    "object_net = cv2.dnn.readNetFromCaffe(prototxt, model)"
   ]
  },
  {
   "cell_type": "code",
   "execution_count": 21,
   "metadata": {},
   "outputs": [
    {
     "name": "stdout",
     "output_type": "stream",
     "text": [
      "[INFO] loading encodings...\n"
     ]
    }
   ],
   "source": [
    "# Face Recognition\n",
    "encodings = \"Face_Recognition/encodings.pickle\"\n",
    "display = 1\n",
    "detection_method = 'hog'\n",
    "\n",
    "# load the known faces and embeddings\n",
    "print(\"[INFO] loading encodings...\")\n",
    "data = pickle.loads(open(encodings, \"rb\").read())"
   ]
  },
  {
   "cell_type": "code",
   "execution_count": 22,
   "metadata": {},
   "outputs": [
    {
     "name": "stdout",
     "output_type": "stream",
     "text": [
      "[INFO] loading face detector...\n",
      "[INFO] loading liveness detector...\n"
     ]
    }
   ],
   "source": [
    "pre_trained_model = 'Face_Liveness/liveness.model'\n",
    "le1 = 'Face_Liveness/le.pickle'\n",
    "conf = 0.5\n",
    "# load our serialized face detector from disk\n",
    "print(\"[INFO] loading face detector...\")\n",
    "protoPath = 'Face_Liveness/caffe_models/deploy.prototxt.txt'\n",
    "modelPath = 'Face_Liveness/caffe_models/res10_300x300_ssd_iter_140000.caffemodel'\n",
    "liveness_net = cv2.dnn.readNetFromCaffe(protoPath, modelPath)\n",
    "\n",
    "# load the liveness detector model and label encoder from disk\n",
    "print(\"[INFO] loading liveness detector...\")\n",
    "model = load_model(pre_trained_model)\n",
    "\n",
    "le = pickle.loads(open(le1, \"rb\").read())"
   ]
  },
  {
   "cell_type": "code",
   "execution_count": 33,
   "metadata": {},
   "outputs": [],
   "source": [
    "def fake_or_real(frame):\n",
    "    blob = cv2.dnn.blobFromImage(cv2.resize(frame, (300, 300)), 1.0,\n",
    "        (300, 300), (104.0, 177.0, 123.0))\n",
    "\n",
    "    # pass the blob through the network and obtain the detections and\n",
    "    # predictions\n",
    "    liveness_net.setInput(blob)\n",
    "    detections = liveness_net.forward()\n",
    "\n",
    "    # loop over the detections\n",
    "    for i in range(0, detections.shape[2]):\n",
    "\n",
    "        # extract the confidence (i.e., probability) associated with the\n",
    "        # prediction\n",
    "        confidence = detections[0, 0, i, 2]\n",
    "\n",
    "        # filter out weak detections\n",
    "        if confidence > conf:\n",
    "\n",
    "            # compute the (x, y)-coordinates of the bounding box for\n",
    "            # the face and extract the face ROI\n",
    "            box = detections[0, 0, i, 3:7] * np.array([w, h, w, h])\n",
    "            (startX, startY, endX, endY) = box.astype(\"int\")\n",
    "\n",
    "            # ensure the detected bounding box does fall outside the\n",
    "            # dimensions of the frame\n",
    "            startX = max(0, startX)\n",
    "            startY = max(0, startY)\n",
    "            endX = min(w, endX)\n",
    "            endY = min(h, endY)\n",
    "\n",
    "            # extract the face ROI and then preproces it in the exact\n",
    "            # same manner as our training data\n",
    "            face = frame[startY:endY, startX:endX]\n",
    "            face = cv2.resize(face, (32, 32))\n",
    "            face = face.astype(\"float\") / 255.0\n",
    "            face = img_to_array(face)\n",
    "            face = np.expand_dims(face, axis=0)\n",
    "\n",
    "            # pass the face ROI through the trained liveness detector\n",
    "            # model to determine if the face is \"real\" or \"fake\"\n",
    "            preds = model.predict(face)[0]\n",
    "            j = np.argmax(preds)\n",
    "            label = le.classes_[j]\n",
    "\n",
    "            # draw the label and bounding box on the frame\n",
    "            label = \"{}: {:.4f}\".format(label, preds[j])\n",
    "            return label\n",
    "    "
   ]
  },
  {
   "cell_type": "code",
   "execution_count": 39,
   "metadata": {},
   "outputs": [
    {
     "name": "stdout",
     "output_type": "stream",
     "text": [
      "[INFO] starting video stream...\n"
     ]
    }
   ],
   "source": [
    "# initialize the video stream, allow the cammera sensor to warmup,\n",
    "# and initialize the FPS counter\n",
    "print(\"[INFO] starting video stream...\")\n",
    "cap = cv2.VideoCapture(0)\n",
    "time.sleep(2.0)\n",
    "fps = FPS().start()"
   ]
  },
  {
   "cell_type": "code",
   "execution_count": 40,
   "metadata": {},
   "outputs": [
    {
     "name": "stdout",
     "output_type": "stream",
     "text": [
      "[INFO] elapsed time: 75.21\n",
      "[INFO] approx. FPS: 2.94\n"
     ]
    }
   ],
   "source": [
    "# loop over the frames from the video stream\n",
    "while True:\n",
    "    # resize the video stream window at a maximum width of 500 pixels\n",
    "    ret, frame = cap.read()\n",
    "    frame = imutils.resize(frame, width=1000)\n",
    "\n",
    "    # grab the frame dimensions and convert it to a blob\n",
    "    # Binary Large Object = BLOB\n",
    "    (h, w) = frame.shape[:2]\n",
    "    blob = cv2.dnn.blobFromImage(cv2.resize(frame, (300, 300)), 0.007843, (300, 300), 127.5)\n",
    "\n",
    "    # pass the blob through the network and get the detections\n",
    "    object_net.setInput(blob)\n",
    "    detections = object_net.forward()\n",
    "\n",
    "    objects_detected = set()\n",
    "\n",
    "    # loop over the detections\n",
    "    for i in np.arange(0, detections.shape[2]):\n",
    "        # extract the probability of the prediction\n",
    "        probability = detections[0, 0, i, 2]\n",
    "\n",
    "        # filter out weak detections by ensuring that probability is\n",
    "        # greater than the min probability\n",
    "        if probability > confidence:\n",
    "            # extract the index of the class label from the\n",
    "            # 'detections', then compute the (x, y)-coordinates of\n",
    "            # the bounding box for the object\n",
    "            idx = int(detections[0, 0, i, 1])\n",
    "            box = detections[0, 0, i, 3:7] * np.array([w, h, w, h])\n",
    "            (startX, startY, endX, endY) = box.astype(\"int\")\n",
    "\n",
    "            # draw the prediction on the frame\n",
    "            label = \"{}: {:.2f}%\".format(CLASSES[idx], probability * 100)\n",
    "            objects_detected.add(label.split(':')[0])\n",
    "            \n",
    "            if label.split(':')[0]=='person':\n",
    "                live_label = fake_or_real(frame)\n",
    "                if live_label==None:\n",
    "                    live_label=''\n",
    "                rgb = cv2.cvtColor(frame, cv2.COLOR_BGR2RGB)\n",
    "                # resize with aspect ratio\n",
    "                rgb = imutils.resize(frame, width=750)\n",
    "                r = frame.shape[1] / float(rgb.shape[1])\n",
    "\n",
    "                # detect the (x, y)-coordinates of the bounding boxes\n",
    "                # corresponding to each face in the input frame, then compute\n",
    "                # the facial embeddings for each face\n",
    "                boxes = face_recognition.face_locations(rgb,\n",
    "                                                        model=detection_method)\n",
    "                encodings = face_recognition.face_encodings(rgb, boxes)\n",
    "                names = []\n",
    "\n",
    "                # loop over the facial embeddings\n",
    "                for encoding in encodings:\n",
    "\n",
    "                    # attempt to match each face in the input image to our known encodings\n",
    "                    matches = face_recognition.compare_faces(data[\"encodings\"],\n",
    "                                                             encoding)\n",
    "                    name = \"Unknown\"\n",
    "\n",
    "                    # check to see if we have found a match\n",
    "                    if True in matches:\n",
    "\n",
    "                        # find the indexes of all matched faces then initialize a\n",
    "                        # dictionary to count the total number of times each face\n",
    "                        # was matched\n",
    "                        matchedIdxs = [i for (i, b) in enumerate(matches) if b]\n",
    "                        counts = {}\n",
    "\n",
    "                        # loop over the matched indexes and maintain a count for\n",
    "                        # each recognized face face\n",
    "                        for i in matchedIdxs:\n",
    "                            name = data[\"names\"][i]\n",
    "                            counts[name] = counts.get(name, 0) + 1\n",
    "\n",
    "                        # determine the recognized face with the largest number\n",
    "                        # of votes (note: in the event of an unlikely tie Python\n",
    "                        # will select first entry in the dictionary)\n",
    "                        name = max(counts, key=counts.get)\n",
    "\n",
    "                    # update the list of names\n",
    "                    names.append(name)\n",
    "\n",
    "                # loop over the recognized faces\n",
    "                for ((top, right, bottom, left), name) in zip(boxes, names):\n",
    "                    # rescale the face coordinates\n",
    "                    top = int(top * r)\n",
    "                    right = int(right * r)\n",
    "                    bottom = int(bottom * r)\n",
    "                    left = int(left * r)\n",
    "\n",
    "                    # draw the predicted face name on the image\n",
    "                    cv2.rectangle(frame, (left, top), (right, bottom),\n",
    "                                  (0, 255, 0), 1)\n",
    "                    y = top - 15 if top - 15 > 15 else top + 15\n",
    "                    cv2.putText(frame, name+' '+live_label, (left, y), cv2.FONT_HERSHEY_SIMPLEX,\n",
    "                                0.75, (0, 255, 0), 2)\n",
    "            else:\n",
    "                cv2.rectangle(frame, (startX, startY), (endX, endY), COLORS[idx], 2)\n",
    "                y = startY - 15 if startY - 15 > 15 else startY + 15\n",
    "                cv2.putText(frame, label, (startX, y), cv2.FONT_HERSHEY_SIMPLEX, 0.5, COLORS[idx], 2)\n",
    "\n",
    "    if 'person' not in objects_detected:\n",
    "        cv2.putText(frame, 'No Person Detected', (40, 40), cv2.FONT_HERSHEY_SIMPLEX, 1.5, (255, 255, 255), 2)\n",
    "        \n",
    "    # show the output frame\n",
    "    cv2.imshow(\"Press q to quit\", frame)\n",
    "    key = cv2.waitKey(1) & 0xFF\n",
    "\n",
    "    # if the 'q' key was pressed, break from the loop\n",
    "    if key == ord(\"q\"):\n",
    "        break\n",
    "\n",
    "    # update the FPS counter\n",
    "    fps.update()\n",
    "\n",
    "# stop the timer and display FPS information\n",
    "fps.stop()\n",
    "print(\"[INFO] elapsed time: {:.2f}\".format(fps.elapsed()))\n",
    "print(\"[INFO] approx. FPS: {:.2f}\".format(fps.fps()))\n",
    "\n",
    "# cleanup\n",
    "cv2.destroyAllWindows()\n",
    "cap.release()"
   ]
  },
  {
   "cell_type": "code",
   "execution_count": 38,
   "metadata": {},
   "outputs": [],
   "source": [
    "cv2.destroyAllWindows()\n",
    "cap.release()"
   ]
  },
  {
   "cell_type": "code",
   "execution_count": null,
   "metadata": {},
   "outputs": [],
   "source": []
  }
 ],
 "metadata": {
  "kernelspec": {
   "display_name": "Python 3",
   "language": "python",
   "name": "python3"
  },
  "language_info": {
   "codemirror_mode": {
    "name": "ipython",
    "version": 3
   },
   "file_extension": ".py",
   "mimetype": "text/x-python",
   "name": "python",
   "nbconvert_exporter": "python",
   "pygments_lexer": "ipython3",
   "version": "3.7.6"
  }
 },
 "nbformat": 4,
 "nbformat_minor": 4
}
