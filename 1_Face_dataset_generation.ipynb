{
 "cells": [
  {
   "cell_type": "code",
   "execution_count": 3,
   "metadata": {},
   "outputs": [],
   "source": [
    "from imutils.video import VideoStream\n",
    "import imutils\n",
    "import time\n",
    "import cv2\n",
    "import os"
   ]
  },
  {
   "cell_type": "code",
   "execution_count": 6,
   "metadata": {},
   "outputs": [
    {
     "name": "stdout",
     "output_type": "stream",
     "text": [
      "[INFO] starting video stream...\n"
     ]
    }
   ],
   "source": [
    "def encode_face():\n",
    "    # load OpenCV's Haar cascade for face detection from disk\n",
    "    name = input(\"Enter name of person: \")\n",
    "    cascade = 'haarcascades/haarcascade_frontalface_default.xml'\n",
    "    output = 'dataset/parikh/'\n",
    "    detector = cv2.CascadeClassifier(cascade)\n",
    "    # initialize the video stream, allow the camera sensor to warm up,\n",
    "    # and initialize the total number of example faces written to disk\n",
    "    # thus far\n",
    "    print(\"To successfully encode the face please make atleast 10-15 clicks\")\n",
    "    print(\"[INFO] starting video stream...\")\n",
    "    vs = VideoStream(src=0).start()\n",
    "    # vs = VideoStream(usePiCamera=True).start()\n",
    "    # time.sleep(2.0)\n",
    "    total = 0\n",
    "    \n",
    "    # loop over the frames from the video stream\n",
    "    while True:\n",
    "        frame = vs.read()\n",
    "        orig = frame.copy()\n",
    "        frame = imutils.resize(frame, width=400)\n",
    "        # detect faces in the grayscale frame\n",
    "        rects = detector.detectMultiScale(\n",
    "            cv2.cvtColor(frame, cv2.COLOR_BGR2GRAY), scaleFactor=1.1, \n",
    "            minNeighbors=5, minSize=(30, 30))\n",
    "        # loop over the face detections and draw them on the frame\n",
    "        for (x, y, w, h) in rects:\n",
    "            cv2.rectangle(frame, (x, y), (x + w, y + h), (0, 255, 0), 2)\n",
    "        # show the output frame\n",
    "        cv2.imshow(\"Frame Press K to click, q to quit\", frame)\n",
    "        key = cv2.waitKey(1) & 0xFF\n",
    "\n",
    "        # if the `k` key was pressed, write the *original* frame to disk\n",
    "        # so we can later process it and use it for face recognition\n",
    "        if key == ord(\"k\"):\n",
    "            p = os.path.sep.join([output, \"{}.png\".format(\n",
    "                str(total).zfill(5))])\n",
    "            cv2.imwrite(p, orig)\n",
    "            total += 1\n",
    "        # if the `q` key was pressed, break from the loop\n",
    "        elif key == ord(\"q\"):\n",
    "            break    \n",
    "\n",
    "    # print the total faces saved and do a bit of cleanup\n",
    "    print(\"[INFO] {} face images stored\".format(total))\n",
    "    print(\"[INFO] cleaning up...\")\n",
    "    cv2.destroyAllWindows()\n",
    "    vs.stop()        "
   ]
  },
  {
   "cell_type": "code",
   "execution_count": 5,
   "metadata": {},
   "outputs": [
    {
     "name": "stdout",
     "output_type": "stream",
     "text": [
      "Folder Already exists\n"
     ]
    }
   ],
   "source": [
    "\n",
    "try:\n",
    "    os.makedirs('my_folder')\n",
    "except OSError as e:\n",
    "    print('Folder Already exists')"
   ]
  },
  {
   "cell_type": "code",
   "execution_count": 8,
   "metadata": {},
   "outputs": [
    {
     "name": "stdout",
     "output_type": "stream",
     "text": [
      "Requirement already satisfied: dlib in /home/err_pv/anaconda3/lib/python3.7/site-packages (19.20.0)\n",
      "Note: you may need to restart the kernel to use updated packages.\n"
     ]
    }
   ],
   "source": [
    "pip install dlib"
   ]
  },
  {
   "cell_type": "code",
   "execution_count": null,
   "metadata": {},
   "outputs": [],
   "source": []
  }
 ],
 "metadata": {
  "kernelspec": {
   "display_name": "Python 3",
   "language": "python",
   "name": "python3"
  },
  "language_info": {
   "codemirror_mode": {
    "name": "ipython",
    "version": 3
   },
   "file_extension": ".py",
   "mimetype": "text/x-python",
   "name": "python",
   "nbconvert_exporter": "python",
   "pygments_lexer": "ipython3",
   "version": "3.7.6"
  }
 },
 "nbformat": 4,
 "nbformat_minor": 4
}
