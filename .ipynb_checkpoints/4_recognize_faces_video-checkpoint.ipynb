{
 "cells": [
  {
   "cell_type": "code",
   "execution_count": 5,
   "metadata": {},
   "outputs": [],
   "source": [
    "# import the necessary packages\n",
    "from imutils.video import VideoStream\n",
    "import face_recognition\n",
    "import imutils\n",
    "import pickle\n",
    "import time\n",
    "import cv2"
   ]
  },
  {
   "cell_type": "code",
   "execution_count": 6,
   "metadata": {},
   "outputs": [],
   "source": []
  },
  {
   "cell_type": "code",
   "execution_count": 7,
   "metadata": {},
   "outputs": [
    {
     "name": "stdout",
     "output_type": "stream",
     "text": [
      "[INFO] loading encodings...\n",
      "[INFO] starting video stream...\n"
     ]
    }
   ],
   "source": [
    "\n",
    "ret, frame = vs.read()\n",
    "# writer = None\n",
    "# time.sleep(2.0)"
   ]
  },
  {
   "cell_type": "code",
   "execution_count": 8,
   "metadata": {},
   "outputs": [],
   "source": []
  },
  {
   "cell_type": "code",
   "execution_count": 9,
   "metadata": {},
   "outputs": [],
   "source": [
    "def recognize_face_live_stream():\n",
    "    # Initializing variables\n",
    "    encodings = \"encodings.pickle\"\n",
    "    display = 1\n",
    "    detection_method = 'hog'\n",
    "    \n",
    "    # load the known faces and embeddings\n",
    "    print(\"[INFO] loading encodings...\")\n",
    "    data = pickle.loads(open(encodings, \"rb\").read())\n",
    "    \n",
    "    # initialize the video stream and pointer to output video file, then\n",
    "    # allow the camera sensor to warm up\n",
    "    print(\"[INFO] starting video stream...\")\n",
    "    cap = cv2.VideoCapture(0)\n",
    "    \n",
    "    # loop over frames from the video file stream\n",
    "    try:\n",
    "        while True:\n",
    "            # grab the frame from the threaded video stream\n",
    "            ret, frame = vs.read()\n",
    "\n",
    "            # convert the input frame from BGR to RGB then resize it to have\n",
    "            # a width of 750px (to speedup processing)\n",
    "            rgb = cv2.cvtColor(frame, cv2.COLOR_BGR2RGB)\n",
    "            \n",
    "            # resize with aspect ratio\n",
    "            rgb = imutils.resize(frame, width=750)\n",
    "            r = frame.shape[1] / float(rgb.shape[1])\n",
    "            \n",
    "            # detect the (x, y)-coordinates of the bounding boxes\n",
    "            # corresponding to each face in the input frame, then compute\n",
    "            # the facial embeddings for each face\n",
    "            boxes = face_recognition.face_locations(rgb,\n",
    "                model=detection_method)\n",
    "            encodings = face_recognition.face_encodings(rgb, boxes)\n",
    "            names = []\n",
    "\n",
    "            # loop over the facial embeddings\n",
    "            for encoding in encodings:\n",
    "                \n",
    "                # attempt to match each face in the input image to our known encodings\n",
    "                matches = face_recognition.compare_faces(data[\"encodings\"],\n",
    "                    encoding)\n",
    "                name = \"Unknown\"\n",
    "                \n",
    "                # check to see if we have found a match\n",
    "                if True in matches:\n",
    "                \n",
    "                    # find the indexes of all matched faces then initialize a\n",
    "                    # dictionary to count the total number of times each face\n",
    "                    # was matched\n",
    "                    matchedIdxs = [i for (i, b) in enumerate(matches) if b]\n",
    "                    counts = {}\n",
    "                    \n",
    "                    # loop over the matched indexes and maintain a count for\n",
    "                    # each recognized face face\n",
    "                    for i in matchedIdxs:\n",
    "                        name = data[\"names\"][i]\n",
    "                        counts[name] = counts.get(name, 0) + 1\n",
    "                    \n",
    "                    # determine the recognized face with the largest number\n",
    "                    # of votes (note: in the event of an unlikely tie Python\n",
    "                    # will select first entry in the dictionary)\n",
    "                    name = max(counts, key=counts.get)\n",
    "\n",
    "                # update the list of names\n",
    "                names.append(name)\n",
    "\n",
    "\n",
    "            # loop over the recognized faces\n",
    "            for ((top, right, bottom, left), name) in zip(boxes, names):\n",
    "                \n",
    "                # rescale the face coordinates\n",
    "                top = int(top * r)\n",
    "                right = int(right * r)\n",
    "                bottom = int(bottom * r)\n",
    "                left = int(left * r)\n",
    "                \n",
    "                # draw the predicted face name on the image\n",
    "                cv2.rectangle(frame, (left, top), (right, bottom),\n",
    "                    (0, 255, 0), 1)\n",
    "                y = top - 15 if top - 15 > 15 else top + 15\n",
    "                cv2.putText(frame, name, (left, y), cv2.FONT_HERSHEY_SIMPLEX,\n",
    "                    0.75, (0, 255, 0), 2)\n",
    "\n",
    "            cv2.imshow(\"Press q to quit\", frame)\n",
    "            key = cv2.waitKey(1) & 0xFF\n",
    "            # if the `q` key was pressed, break from the loop\n",
    "            if key == ord(\"q\"):\n",
    "                break    \n",
    "\n",
    "        # do a bit of cleanup\n",
    "        cv2.destroyAllWindows()\n",
    "        vs.release()\n",
    "\n",
    "    except:\n",
    "        cv2.destroyAllWindows()\n",
    "        vs.release()\n",
    "        print(\"Memory Error, Call to cuDNN failed\")"
   ]
  },
  {
   "cell_type": "code",
   "execution_count": 11,
   "metadata": {},
   "outputs": [
    {
     "name": "stdout",
     "output_type": "stream",
     "text": [
      "[INFO] loading encodings...\n",
      "[INFO] starting video stream...\n",
      "Memory Error, Call to cuDNN failed\n"
     ]
    }
   ],
   "source": [
    "recognize_face_live_stream()"
   ]
  },
  {
   "cell_type": "code",
   "execution_count": null,
   "metadata": {},
   "outputs": [],
   "source": []
  }
 ],
 "metadata": {
  "kernelspec": {
   "display_name": "Python 3",
   "language": "python",
   "name": "python3"
  },
  "language_info": {
   "codemirror_mode": {
    "name": "ipython",
    "version": 3
   },
   "file_extension": ".py",
   "mimetype": "text/x-python",
   "name": "python",
   "nbconvert_exporter": "python",
   "pygments_lexer": "ipython3",
   "version": "3.7.6"
  }
 },
 "nbformat": 4,
 "nbformat_minor": 4
}
