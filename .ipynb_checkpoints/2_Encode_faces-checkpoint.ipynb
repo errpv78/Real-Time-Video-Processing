{
 "cells": [
  {
   "cell_type": "code",
   "execution_count": 3,
   "metadata": {},
   "outputs": [],
   "source": [
    "# import the necessary packages\n",
    "from imutils import paths\n",
    "import face_recognition\n",
    "import pickle\n",
    "import cv2\n",
    "import os"
   ]
  },
  {
   "cell_type": "code",
   "execution_count": 6,
   "metadata": {},
   "outputs": [],
   "source": [
    "def encode_face_data():\n",
    "    # grab the paths to the input images in our dataset\n",
    "    print(\"[INFO] quantifying faces...\")\n",
    "    dataset = 'face_dataset/'\n",
    "    encodings_file = 'encodings.pickle'\n",
    "    detection_method = 'cnn'\n",
    "    imagePaths = list(paths.list_images(dataset))\n",
    "    # initialize the list of known encodings and known names\n",
    "    knownEncodings = []\n",
    "    knownNames = []\n",
    "    # loop over the image paths\n",
    "    for (i, imagePath) in enumerate(imagePaths):\n",
    "        # extract the person name from the image path\n",
    "        print(\"[INFO] processing image {}/{}\".format(i + 1,\n",
    "            len(imagePaths)))\n",
    "        name = imagePath.split(os.path.sep)[-2]\n",
    "        # load the input image and convert it from BGR (OpenCV ordering)\n",
    "        # to dlib ordering (RGB)\n",
    "        image = cv2.imread(imagePath)\n",
    "        rgb = cv2.cvtColor(image, cv2.COLOR_BGR2RGB)\n",
    "        # detect the (x, y)-coordinates of the bounding boxes\n",
    "        # corresponding to each face in the input image\n",
    "        boxes = face_recognition.face_locations(rgb,\n",
    "            model=detection_method)\n",
    "        # compute the facial embedding for the face\n",
    "        encodings = face_recognition.face_encodings(rgb, boxes)\n",
    "        # loop over the encodings\n",
    "        for encoding in encodings:\n",
    "            # add each encoding + name to our set of known names and\n",
    "            # encodings\n",
    "            knownEncodings.append(encoding)\n",
    "            knownNames.append(name)\n",
    "\n",
    "\n",
    "    # dump the facial encodings + names to disk\n",
    "    print(\"[INFO] serializing encodings... to \",encodings_file)\n",
    "    data = {\"encodings\": knownEncodings, \"names\": knownNames}\n",
    "    f = open(encodings_file, \"wb\")\n",
    "    f.write(pickle.dumps(data))\n",
    "    f.close()        \n",
    "    print(\"Total Images Encoded:\", len(knownNames))"
   ]
  },
  {
   "cell_type": "code",
   "execution_count": 7,
   "metadata": {},
   "outputs": [
    {
     "name": "stdout",
     "output_type": "stream",
     "text": [
      "[INFO] quantifying faces...\n",
      "[INFO] processing image 1/14\n",
      "[INFO] processing image 2/14\n",
      "[INFO] processing image 3/14\n",
      "[INFO] processing image 4/14\n",
      "[INFO] processing image 5/14\n",
      "[INFO] processing image 6/14\n",
      "[INFO] processing image 7/14\n",
      "[INFO] processing image 8/14\n",
      "[INFO] processing image 9/14\n",
      "[INFO] processing image 10/14\n",
      "[INFO] processing image 11/14\n",
      "[INFO] processing image 12/14\n",
      "[INFO] processing image 13/14\n",
      "[INFO] processing image 14/14\n",
      "[INFO] serializing encodings... to  encodings.pickle\n",
      "Total Faces Encoded: 14\n"
     ]
    }
   ],
   "source": [
    "encode_face_data()"
   ]
  },
  {
   "cell_type": "code",
   "execution_count": null,
   "metadata": {},
   "outputs": [],
   "source": []
  }
 ],
 "metadata": {
  "kernelspec": {
   "display_name": "Python 3",
   "language": "python",
   "name": "python3"
  },
  "language_info": {
   "codemirror_mode": {
    "name": "ipython",
    "version": 3
   },
   "file_extension": ".py",
   "mimetype": "text/x-python",
   "name": "python",
   "nbconvert_exporter": "python",
   "pygments_lexer": "ipython3",
   "version": "3.7.6"
  }
 },
 "nbformat": 4,
 "nbformat_minor": 4
}
