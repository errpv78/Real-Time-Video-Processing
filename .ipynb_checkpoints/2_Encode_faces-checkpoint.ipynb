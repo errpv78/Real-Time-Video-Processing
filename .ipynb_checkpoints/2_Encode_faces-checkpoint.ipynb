{
 "cells": [
  {
   "cell_type": "code",
   "execution_count": 1,
   "metadata": {},
   "outputs": [],
   "source": [
    "# import the necessary packages\n",
    "from imutils import paths\n",
    "import face_recognition\n",
    "import pickle\n",
    "import cv2\n",
    "import os"
   ]
  },
  {
   "cell_type": "code",
   "execution_count": 8,
   "metadata": {},
   "outputs": [],
   "source": [
    "def encode_face_data():\n",
    "    # grab the paths to the input images in our dataset\n",
    "    print(\"[INFO] quantifying faces...\")\n",
    "    \n",
    "    # Face recognition dataset\n",
    "    dataset = 'face_recognition_dataset/'\n",
    "    \n",
    "    # Output encoding file\n",
    "    encodings_file = 'encodings.pickle'\n",
    "    \n",
    "    # Face detection method (cnn or hog)\n",
    "    detection_method = 'cnn'\n",
    "    imagePaths = list(paths.list_images(dataset))\n",
    "    \n",
    "    # initialize the list of known encodings and known names\n",
    "    knownEncodings = []\n",
    "    knownNames = []\n",
    "    \n",
    "    # loop over the image paths\n",
    "    for (i, imagePath) in enumerate(imagePaths):\n",
    "        \n",
    "        # extract the person name from the image path\n",
    "        print(\"[INFO] processing image {}/{}\".format(i + 1,\n",
    "            len(imagePaths)))\n",
    "        name = imagePath.split(os.path.sep)[-2]\n",
    "        \n",
    "        # load the input image and convert it from BGR (OpenCV ordering)\n",
    "        # to dlib ordering (RGB)\n",
    "        image = cv2.imread(imagePath)\n",
    "        rgb = cv2.cvtColor(image, cv2.COLOR_BGR2RGB)\n",
    "        \n",
    "        # detect the (x, y)-coordinates of the bounding boxes\n",
    "        # corresponding to each face in the input image\n",
    "        # face_recognition.face_locations\n",
    "        \"\"\"img – An image (as a numpy array)\n",
    "        number_of_times_to_upsample – How many times to upsample the \n",
    "        image looking for faces. Higher numbers find smaller faces.\n",
    "        model – Which face detection model to use. “hog” is less \n",
    "        accurate but faster on CPUs. “cnn” is a more accurate \n",
    "        deep-learning model which is GPU/CUDA accelerated (if \n",
    "        available). The default is “hog”.\n",
    "        Returns: A list of tuples of found face locations in css (top,\n",
    "        right, bottom, left) order\"\"\"\n",
    "        boxes = face_recognition.face_locations(rgb,\n",
    "            model=detection_method)\n",
    "        \n",
    "        \n",
    "        # compute the facial embedding for the face\n",
    "        # face_encodings()\n",
    "        \"\"\"face_image – The image that contains one or more faces\n",
    "        known_face_locations – Optional - the bounding boxes of each\n",
    "        face if you already know them.\n",
    "        Returns: A list of 128-dimensional face encodings (one for\n",
    "        each face in the image)\"\"\"\n",
    "        encodings = face_recognition.face_encodings(rgb, boxes)\n",
    "        \n",
    "        # loop over the encodings\n",
    "        for encoding in encodings:\n",
    "            # add each encoding + name to our set of known names and\n",
    "            # encodings\n",
    "            knownEncodings.append(encoding)\n",
    "            knownNames.append(name)\n",
    "\n",
    "\n",
    "    # dump the facial encodings + names to disk\n",
    "    print(\"[INFO] serializing encodings... to \",encodings_file)\n",
    "    data = {\"encodings\": knownEncodings, \"names\": knownNames}\n",
    "    f = open(encodings_file, \"wb\")\n",
    "    f.write(pickle.dumps(data))\n",
    "    f.close()        \n",
    "    print(\"Total Images Encoded:\", len(knownNames))\n",
    "    print(\"Total Faces Encoded:\", len(set(knownNames)))"
   ]
  },
  {
   "cell_type": "code",
   "execution_count": 7,
   "metadata": {},
   "outputs": [
    {
     "name": "stdout",
     "output_type": "stream",
     "text": [
      "[INFO] quantifying faces...\n",
      "[INFO] processing image 1/18\n",
      "[INFO] processing image 2/18\n",
      "[INFO] processing image 3/18\n",
      "[INFO] processing image 4/18\n",
      "[INFO] processing image 5/18\n",
      "[INFO] processing image 6/18\n",
      "[INFO] processing image 7/18\n",
      "[INFO] processing image 8/18\n",
      "[INFO] processing image 9/18\n",
      "[INFO] processing image 10/18\n",
      "[INFO] processing image 11/18\n",
      "[INFO] processing image 12/18\n",
      "[INFO] processing image 13/18\n",
      "[INFO] processing image 14/18\n",
      "[INFO] processing image 15/18\n",
      "[INFO] processing image 16/18\n",
      "[INFO] processing image 17/18\n",
      "[INFO] processing image 18/18\n",
      "[INFO] serializing encodings... to  encodings.pickle\n",
      "Total Images Encoded: 18\n",
      "Total Faces Encoded: 2\n",
      "['parikh', 'parikh', 'parikh', 'parikh', 'parikh', 'parikh', 'parikh', 'parikh', 'parikh', 'parikh', 'parikh', 'parikh', 'parikh', 'parikh', 'parikh', 'parikh', 'parikh', 'chaitanya']\n"
     ]
    }
   ],
   "source": [
    "encode_face_data()"
   ]
  },
  {
   "cell_type": "code",
   "execution_count": null,
   "metadata": {},
   "outputs": [],
   "source": []
  }
 ],
 "metadata": {
  "kernelspec": {
   "display_name": "Python 3",
   "language": "python",
   "name": "python3"
  },
  "language_info": {
   "codemirror_mode": {
    "name": "ipython",
    "version": 3
   },
   "file_extension": ".py",
   "mimetype": "text/x-python",
   "name": "python",
   "nbconvert_exporter": "python",
   "pygments_lexer": "ipython3",
   "version": "3.7.6"
  }
 },
 "nbformat": 4,
 "nbformat_minor": 4
}
